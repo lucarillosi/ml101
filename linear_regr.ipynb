{
 "cells": [
  {
   "cell_type": "markdown",
   "metadata": {},
   "source": [
    "# Exercise\n",
    "Fitting a simple linear function using pytorch automatic differentiation"
   ]
  },
  {
   "cell_type": "code",
   "execution_count": 3,
   "metadata": {},
   "outputs": [],
   "source": [
    "import numpy as np\n",
    "import torch\n",
    "import matplotlib.pyplot as plt\n",
    "import random"
   ]
  },
  {
   "cell_type": "markdown",
   "metadata": {},
   "source": [
    "# Generate synthetic data"
   ]
  },
  {
   "cell_type": "code",
   "execution_count": 4,
   "metadata": {},
   "outputs": [
    {
     "name": "stdout",
     "output_type": "stream",
     "text": [
      "w_true=tensor([ 2.0000, -3.4000]) b_true=4.2\n"
     ]
    },
    {
     "data": {
      "image/png": "[encoded data removed]",
      "text/plain": [
       "<Figure size 432x288 with 1 Axes>"
      ]
     },
     "metadata": {
      "needs_background": "light"
     },
     "output_type": "display_data"
    },
    {
     "data": {
      "image/png": "[encoded data removed]",
      "text/plain": [
       "<Figure size 432x288 with 1 Axes>"
      ]
     },
     "metadata": {
      "needs_background": "light"
     },
     "output_type": "display_data"
    }
   ],
   "source": [
    "# Generate data\n",
    "w_true = torch.tensor([2,-3.4])\n",
    "b_true = 4.2\n",
    "# w_true = np.array([2, -3.4])\n",
    "# b_true = 4.2\n",
    "\n",
    "print(f'{w_true=} {b_true=}')\n",
    "\n",
    "num_examples = 1000\n",
    "X = torch.normal(0,1,(num_examples, len(w_true)))\n",
    "noise = torch.normal(0,0.01, (num_examples,))\n",
    "y = torch.matmul(X , w_true) + b_true + noise\n",
    "\n",
    "plt.scatter(X[:,0], y)\n",
    "plt.show()\n",
    "plt.scatter(X[:,1], y)\n",
    "plt.show()\n",
    "\n",
    "features = X\n",
    "labels = y"
   ]
  },
  {
   "cell_type": "markdown",
   "metadata": {},
   "source": [
    "# Define dataset iterator"
   ]
  },
  {
   "cell_type": "code",
   "execution_count": 5,
   "metadata": {},
   "outputs": [
    {
     "name": "stdout",
     "output_type": "stream",
     "text": [
      "torch.Size([10, 2]) \n",
      " torch.Size([10])\n",
      "tensor([[ 0.3890, -0.8608],\n",
      "        [ 0.5169,  1.4660],\n",
      "        [ 0.7461, -1.2373],\n",
      "        [-0.6310, -0.8479],\n",
      "        [ 0.1570, -0.0090],\n",
      "        [-1.8212, -0.4537],\n",
      "        [-1.5933,  1.0340],\n",
      "        [ 0.1128, -0.7153],\n",
      "        [ 0.9769,  0.2290],\n",
      "        [ 1.6495,  0.2897]]) \n",
      " tensor([ 7.8846,  0.2549,  9.9020,  5.8249,  4.5359,  2.0973, -2.4924,  6.8516,\n",
      "         5.3855,  6.5058])\n"
     ]
    }
   ],
   "source": [
    "def data_iter(batch_size, features, labels):\n",
    "    num_examples = len(features)\n",
    "    indices = list(range(num_examples))\n",
    "    # The examples are read at random, in no particular order\n",
    "    random.shuffle(indices)\n",
    "    for i in range(0, num_examples, batch_size):\n",
    "        batch_indices = np.array(\n",
    "            indices[i: min(i + batch_size, num_examples)])\n",
    "        yield features[batch_indices], labels[batch_indices]\n",
    "\n",
    "for X, y in data_iter(10, features, labels):\n",
    "    print(X.shape, '\\n', y.shape)\n",
    "    print(X, '\\n', y)\n",
    "    break"
   ]
  },
  {
   "cell_type": "markdown",
   "metadata": {},
   "source": [
    "# Define the model, loss & optimizer"
   ]
  },
  {
   "cell_type": "code",
   "execution_count": 6,
   "metadata": {},
   "outputs": [],
   "source": [
    "def model(X, w, b):\n",
    "    return torch.matmul(X, w) + b\n",
    "\n",
    "def loss(y_hat, y_true):\n",
    "    return (y_hat - y_true.reshape(y_hat.shape)) ** 2 / 2\n",
    "\n",
    "def optimizer(params, lr, batch_size):\n",
    "    with torch.no_grad():\n",
    "        for param in params:\n",
    "            param -= param.grad * lr / batch_size\n",
    "            param.grad.zero_()"
   ]
  },
  {
   "cell_type": "markdown",
   "metadata": {},
   "source": [
    "# Fit model"
   ]
  },
  {
   "cell_type": "code",
   "execution_count": 7,
   "metadata": {},
   "outputs": [
    {
     "name": "stdout",
     "output_type": "stream",
     "text": [
      "epoch=0 loss=12.787\n",
      "epoch=1 loss=10.621\n",
      "epoch=2 loss=8.823\n",
      "epoch=3 loss=7.331\n",
      "epoch=4 loss=6.092\n",
      "epoch=5 loss=5.063\n",
      "epoch=6 loss=4.209\n",
      "epoch=7 loss=3.499\n",
      "epoch=8 loss=2.910\n",
      "epoch=9 loss=2.420\n",
      "epoch=10 loss=2.013\n",
      "epoch=11 loss=1.675\n",
      "epoch=12 loss=1.394\n",
      "epoch=13 loss=1.160\n",
      "epoch=14 loss=0.965\n",
      "epoch=15 loss=0.804\n",
      "epoch=16 loss=0.669\n",
      "epoch=17 loss=0.557\n",
      "epoch=18 loss=0.464\n",
      "epoch=19 loss=0.386\n",
      "epoch=20 loss=0.322\n",
      "epoch=21 loss=0.268\n",
      "epoch=22 loss=0.223\n",
      "epoch=23 loss=0.186\n",
      "epoch=24 loss=0.155\n",
      "epoch=25 loss=0.129\n",
      "epoch=26 loss=0.108\n",
      "epoch=27 loss=0.090\n",
      "epoch=28 loss=0.075\n",
      "epoch=29 loss=0.063\n",
      "epoch=30 loss=0.052\n",
      "epoch=31 loss=0.044\n",
      "epoch=32 loss=0.036\n",
      "epoch=33 loss=0.030\n",
      "epoch=34 loss=0.025\n",
      "epoch=35 loss=0.021\n",
      "epoch=36 loss=0.018\n",
      "epoch=37 loss=0.015\n",
      "epoch=38 loss=0.012\n",
      "epoch=39 loss=0.010\n",
      "epoch=40 loss=0.009\n",
      "epoch=41 loss=0.007\n",
      "epoch=42 loss=0.006\n",
      "epoch=43 loss=0.005\n",
      "epoch=44 loss=0.004\n",
      "epoch=45 loss=0.004\n",
      "epoch=46 loss=0.003\n",
      "epoch=47 loss=0.002\n",
      "epoch=48 loss=0.002\n",
      "epoch=49 loss=0.002\n",
      "epoch=50 loss=0.001\n",
      "epoch=51 loss=0.001\n",
      "epoch=52 loss=0.001\n",
      "epoch=53 loss=0.001\n",
      "epoch=54 loss=0.001\n",
      "epoch=55 loss=0.001\n",
      "epoch=56 loss=0.001\n",
      "epoch=57 loss=0.000\n",
      "epoch=58 loss=0.000\n",
      "epoch=59 loss=0.000\n",
      "epoch=60 loss=0.000\n",
      "epoch=61 loss=0.000\n",
      "epoch=62 loss=0.000\n",
      "epoch=63 loss=0.000\n",
      "epoch=64 loss=0.000\n",
      "epoch=65 loss=0.000\n",
      "epoch=66 loss=0.000\n",
      "epoch=67 loss=0.000\n",
      "epoch=68 loss=0.000\n",
      "epoch=69 loss=0.000\n",
      "epoch=70 loss=0.000\n",
      "epoch=71 loss=0.000\n",
      "epoch=72 loss=0.000\n",
      "epoch=73 loss=0.000\n",
      "epoch=74 loss=0.000\n",
      "epoch=75 loss=0.000\n",
      "epoch=76 loss=0.000\n",
      "epoch=77 loss=0.000\n",
      "epoch=78 loss=0.000\n",
      "epoch=79 loss=0.000\n",
      "epoch=80 loss=0.000\n",
      "epoch=81 loss=0.000\n",
      "epoch=82 loss=0.000\n",
      "epoch=83 loss=0.000\n",
      "epoch=84 loss=0.000\n",
      "epoch=85 loss=0.000\n",
      "epoch=86 loss=0.000\n",
      "epoch=87 loss=0.000\n",
      "epoch=88 loss=0.000\n",
      "epoch=89 loss=0.000\n",
      "epoch=90 loss=0.000\n",
      "epoch=91 loss=0.000\n",
      "epoch=92 loss=0.000\n",
      "epoch=93 loss=0.000\n",
      "epoch=94 loss=0.000\n",
      "epoch=95 loss=0.000\n",
      "epoch=96 loss=0.000\n",
      "epoch=97 loss=0.000\n",
      "epoch=98 loss=0.000\n",
      "epoch=99 loss=0.000\n"
     ]
    },
    {
     "data": {
      "image/png": "[encoded data removed]",
      "text/plain": [
       "<Figure size 432x288 with 1 Axes>"
      ]
     },
     "metadata": {
      "needs_background": "light"
     },
     "output_type": "display_data"
    }
   ],
   "source": [
    "EPOCHS = 100\n",
    "LR = 0.001\n",
    "BATCH_SZ = 10\n",
    "\n",
    "weights = torch.normal(0, 0.01,size=(2,1), requires_grad=True)\n",
    "bias = torch.zeros(1, requires_grad=True)\n",
    "\n",
    "# Epoch loop\n",
    "history = []\n",
    "for epoch in range(EPOCHS):\n",
    "\n",
    "    # Minibatch loop\n",
    "    for X, label in data_iter(BATCH_SZ, features, labels):\n",
    "        y_hat = model(X, weights, bias)\n",
    "        l = loss(y_hat, label)\n",
    "        l.sum().backward()\n",
    "        optimizer([weights, bias], LR, BATCH_SZ)\n",
    "\n",
    "    # Epoch end, compute stats for all samples in the dataset\n",
    "    with torch.no_grad():\n",
    "        y_hat = model(features, weights, bias)\n",
    "        l = loss(y_hat, labels)\n",
    "        history.append(l.mean())\n",
    "        print(f'{epoch=} loss={l.mean():.3f}')\n",
    "\n",
    "plt.plot(history)\n",
    "plt.show()"
   ]
  },
  {
   "cell_type": "markdown",
   "metadata": {},
   "source": [
    "# Compare results"
   ]
  },
  {
   "cell_type": "code",
   "execution_count": 8,
   "metadata": {},
   "outputs": [
    {
     "name": "stdout",
     "output_type": "stream",
     "text": [
      "=== Weights ===\n",
      "tensor([ 2.0000, -3.4000])\n",
      "tensor([ 1.9993, -3.3994], grad_fn=<ReshapeAliasBackward0>)\n",
      "=== Bias ===\n",
      "4.2\n",
      "[4.2000484]\n"
     ]
    }
   ],
   "source": [
    "print(\"=== Weights ===\")\n",
    "print(f'{w_true}\\n{weights.reshape(w_true.shape)}')\n",
    "print(\"=== Bias ===\")\n",
    "print(f'{b_true}\\n{bias.detach().numpy()}')"
   ]
  }
 ],
 "metadata": {
  "interpreter": {
   "hash": "a2e63b6b73ccbc5d8e5c8a523372885cd73c90b2800ab2d1105817fe0780b919"
  },
  "kernelspec": {
   "display_name": "Python 3.8.6 64-bit ('ml': pyenv)",
   "language": "python",
   "name": "python3"
  },
  "language_info": {
   "codemirror_mode": {
    "name": "ipython",
    "version": 3
   },
   "file_extension": ".py",
   "mimetype": "text/x-python",
   "name": "python",
   "nbconvert_exporter": "python",
   "pygments_lexer": "ipython3",
   "version": "3.8.6"
  },
  "orig_nbformat": 4
 },
 "nbformat": 4,
 "nbformat_minor": 2
}
